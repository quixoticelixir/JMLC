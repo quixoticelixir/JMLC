{
 "cells": [
  {
   "cell_type": "code",
   "execution_count": 2,
   "id": "07f4268a",
   "metadata": {},
   "outputs": [],
   "source": [
    "import os\n",
    "from decouple import Config, RepositoryEnv"
   ]
  },
  {
   "cell_type": "code",
   "execution_count": 3,
   "id": "72be8f31",
   "metadata": {},
   "outputs": [],
   "source": [
    "DOTENV_FILE = os.getcwd() + '/.env'"
   ]
  },
  {
   "cell_type": "code",
   "execution_count": 4,
   "id": "78df0ade",
   "metadata": {},
   "outputs": [
    {
     "data": {
      "text/plain": [
       "'/Users/macbook/PycharmProjects/pipenv_demo/.env'"
      ]
     },
     "execution_count": 4,
     "metadata": {},
     "output_type": "execute_result"
    }
   ],
   "source": [
    "DOTENV_FILE"
   ]
  },
  {
   "cell_type": "code",
   "execution_count": 5,
   "id": "f6b63062",
   "metadata": {},
   "outputs": [],
   "source": [
    "env_config = Config(RepositoryEnv(DOTENV_FILE))"
   ]
  },
  {
   "cell_type": "code",
   "execution_count": 6,
   "id": "704d8eb6",
   "metadata": {},
   "outputs": [],
   "source": [
    "API_USERNAME = env_config.get('USERNAME')\n",
    "API_KEY = env_config.get('KEY')"
   ]
  },
  {
   "cell_type": "code",
   "execution_count": 7,
   "id": "61f505ab",
   "metadata": {},
   "outputs": [
    {
     "data": {
      "text/plain": [
       "'hfy92kadHgkk29fahjsu3j922v9sjwaucahf'"
      ]
     },
     "execution_count": 7,
     "metadata": {},
     "output_type": "execute_result"
    }
   ],
   "source": [
    "API_KEY"
   ]
  },
  {
   "cell_type": "code",
   "execution_count": 8,
   "id": "8c1f7b73",
   "metadata": {},
   "outputs": [
    {
     "data": {
      "text/plain": [
       "'alex'"
      ]
     },
     "execution_count": 8,
     "metadata": {},
     "output_type": "execute_result"
    }
   ],
   "source": [
    "API_USERNAME"
   ]
  },
  {
   "cell_type": "code",
   "execution_count": 9,
   "id": "c5c75105",
   "metadata": {},
   "outputs": [],
   "source": [
    "FINHUB_KEY = env_config.get('FINHUB_KEY')"
   ]
  },
  {
   "cell_type": "code",
   "execution_count": 10,
   "id": "8c4a1dd7",
   "metadata": {},
   "outputs": [
    {
     "data": {
      "text/plain": [
       "'cihdka9r01qut3a6fco0cihdka9r01qut3a6fcog'"
      ]
     },
     "execution_count": 10,
     "metadata": {},
     "output_type": "execute_result"
    }
   ],
   "source": [
    "FINHUB_KEY"
   ]
  },
  {
   "cell_type": "code",
   "execution_count": 11,
   "id": "ebc505ce",
   "metadata": {},
   "outputs": [],
   "source": [
    "API_USER = env_config.get('USER')"
   ]
  },
  {
   "cell_type": "code",
   "execution_count": 12,
   "id": "5559c706",
   "metadata": {},
   "outputs": [
    {
     "data": {
      "text/plain": [
       "'macbook'"
      ]
     },
     "execution_count": 12,
     "metadata": {},
     "output_type": "execute_result"
    }
   ],
   "source": [
    "API_USER"
   ]
  },
  {
   "cell_type": "code",
   "execution_count": 11,
   "id": "27eaf7d4",
   "metadata": {},
   "outputs": [],
   "source": [
    "### почему остался USER несмотря на конфиг?"
   ]
  },
  {
   "cell_type": "code",
   "execution_count": 12,
   "id": "390de78d",
   "metadata": {},
   "outputs": [],
   "source": [
    "# Видимо нужны названия переменных, не перекликающиеся с другими переменными"
   ]
  },
  {
   "cell_type": "markdown",
   "id": "7b6cc9d9",
   "metadata": {},
   "source": [
    "### Второй способ пробуем"
   ]
  },
  {
   "cell_type": "code",
   "execution_count": 2,
   "id": "09e233c6",
   "metadata": {},
   "outputs": [],
   "source": [
    "import os\n",
    "from decouple import AutoConfig"
   ]
  },
  {
   "cell_type": "code",
   "execution_count": 3,
   "id": "ef5b7490",
   "metadata": {},
   "outputs": [],
   "source": [
    "config = AutoConfig(search_path=os.getcwd())"
   ]
  },
  {
   "cell_type": "code",
   "execution_count": 4,
   "id": "5179b7cd",
   "metadata": {},
   "outputs": [],
   "source": [
    "API_KEY = config('KEY')"
   ]
  },
  {
   "cell_type": "code",
   "execution_count": 5,
   "id": "04679abe",
   "metadata": {},
   "outputs": [
    {
     "data": {
      "text/plain": [
       "'hfy92kadHgkk29fahjsu3j922v9sjwaucahf'"
      ]
     },
     "execution_count": 5,
     "metadata": {},
     "output_type": "execute_result"
    }
   ],
   "source": [
    "API_KEY"
   ]
  },
  {
   "cell_type": "code",
   "execution_count": 8,
   "id": "7e7a1800",
   "metadata": {},
   "outputs": [],
   "source": [
    "API_USERNAME = config('USERNAME')"
   ]
  },
  {
   "cell_type": "code",
   "execution_count": 9,
   "id": "ca1958d0",
   "metadata": {},
   "outputs": [
    {
     "data": {
      "text/plain": [
       "'alex'"
      ]
     },
     "execution_count": 9,
     "metadata": {},
     "output_type": "execute_result"
    }
   ],
   "source": [
    "API_USERNAME"
   ]
  },
  {
   "cell_type": "code",
   "execution_count": 11,
   "id": "13224ad9",
   "metadata": {},
   "outputs": [],
   "source": [
    "FINHUB_KEY = config('FINHUB_KEY')"
   ]
  },
  {
   "cell_type": "code",
   "execution_count": 12,
   "id": "2467a0cb",
   "metadata": {},
   "outputs": [
    {
     "data": {
      "text/plain": [
       "'cihdka9r01qut3a6fco0cihdka9r01qut3a6fcog'"
      ]
     },
     "execution_count": 12,
     "metadata": {},
     "output_type": "execute_result"
    }
   ],
   "source": [
    "FINHUB_KEY"
   ]
  },
  {
   "cell_type": "markdown",
   "id": "a3263629",
   "metadata": {},
   "source": [
    "## Настраиваем путь до файла"
   ]
  },
  {
   "cell_type": "code",
   "execution_count": 14,
   "id": "89c7fc64",
   "metadata": {},
   "outputs": [
    {
     "name": "stdout",
     "output_type": "stream",
     "text": [
      "/Users/macbook/PycharmProjects/pipenv_demo\n"
     ]
    }
   ],
   "source": [
    "print(os.getcwd())"
   ]
  },
  {
   "cell_type": "code",
   "execution_count": 16,
   "id": "2cb34e35",
   "metadata": {},
   "outputs": [
    {
     "ename": "NameError",
     "evalue": "name '__file__' is not defined",
     "output_type": "error",
     "traceback": [
      "\u001b[0;31m---------------------------------------------------------------------------\u001b[0m",
      "\u001b[0;31mNameError\u001b[0m                                 Traceback (most recent call last)",
      "\u001b[0;32m/var/folders/1n/8f22svx17wx_qlblr178t4jr0000gn/T/ipykernel_40075/1724511046.py\u001b[0m in \u001b[0;36m<module>\u001b[0;34m\u001b[0m\n\u001b[0;32m----> 1\u001b[0;31m \u001b[0mprint\u001b[0m\u001b[0;34m(\u001b[0m\u001b[0mos\u001b[0m\u001b[0;34m.\u001b[0m\u001b[0mpath\u001b[0m\u001b[0;34m.\u001b[0m\u001b[0mbasename\u001b[0m\u001b[0;34m(\u001b[0m\u001b[0m__file__\u001b[0m\u001b[0;34m)\u001b[0m\u001b[0;34m)\u001b[0m\u001b[0;34m\u001b[0m\u001b[0;34m\u001b[0m\u001b[0m\n\u001b[0m",
      "\u001b[0;31mNameError\u001b[0m: name '__file__' is not defined"
     ]
    }
   ],
   "source": [
    "print(os.path.basename(__file__))"
   ]
  },
  {
   "cell_type": "code",
   "execution_count": null,
   "id": "78c8e4bb",
   "metadata": {},
   "outputs": [],
   "source": [
    "print os.path.abspath(__file__)"
   ]
  },
  {
   "cell_type": "code",
   "execution_count": null,
   "id": "bc3185bf",
   "metadata": {},
   "outputs": [],
   "source": [
    "print os.path.dirname(__file__)"
   ]
  },
  {
   "cell_type": "code",
   "execution_count": 23,
   "id": "5cb60433",
   "metadata": {},
   "outputs": [
    {
     "data": {
      "text/plain": [
       "'/Users/macbook/PycharmProjects/pipenv_demo'"
      ]
     },
     "execution_count": 23,
     "metadata": {},
     "output_type": "execute_result"
    }
   ],
   "source": [
    "os.path.abspath('')"
   ]
  },
  {
   "cell_type": "code",
   "execution_count": 22,
   "id": "d29f6101",
   "metadata": {},
   "outputs": [
    {
     "name": "stdout",
     "output_type": "stream",
     "text": [
      "/Users/macbook/opt/anaconda3/envs/p37/lib/python3.7/site-packages/ipykernel_launcher.py\n"
     ]
    }
   ],
   "source": [
    "import sys\n",
    "print(sys.argv[0])"
   ]
  },
  {
   "cell_type": "markdown",
   "id": "cc6cd0c4",
   "metadata": {},
   "source": [
    "## Пробуем обратиться к базе данных"
   ]
  },
  {
   "cell_type": "code",
   "execution_count": 1,
   "id": "30d32a2f",
   "metadata": {},
   "outputs": [],
   "source": [
    "import sqlite3"
   ]
  },
  {
   "cell_type": "code",
   "execution_count": 2,
   "id": "53eaba32",
   "metadata": {},
   "outputs": [],
   "source": [
    "import pandas as pd"
   ]
  },
  {
   "cell_type": "code",
   "execution_count": 3,
   "id": "e9ae8445",
   "metadata": {},
   "outputs": [],
   "source": [
    "conn = sqlite3.connect(r'/Users/macbook/PycharmProjects/pipenv_demo/output/2023-05-22_2023-05-23/financial_data.db')"
   ]
  },
  {
   "cell_type": "code",
   "execution_count": 4,
   "id": "56fe0164",
   "metadata": {},
   "outputs": [],
   "source": [
    "cur = conn.cursor()"
   ]
  },
  {
   "cell_type": "code",
   "execution_count": 5,
   "id": "37e6a5b5",
   "metadata": {},
   "outputs": [],
   "source": [
    "sql_query = \"\"\"SELECT name FROM sqlite_master  \n",
    "  WHERE type='table';\"\"\""
   ]
  },
  {
   "cell_type": "code",
   "execution_count": 6,
   "id": "1112f03c",
   "metadata": {},
   "outputs": [
    {
     "data": {
      "text/plain": [
       "<sqlite3.Cursor at 0x7ff12845a7a0>"
      ]
     },
     "execution_count": 6,
     "metadata": {},
     "output_type": "execute_result"
    }
   ],
   "source": [
    "cur.execute(sql_query)"
   ]
  },
  {
   "cell_type": "code",
   "execution_count": 7,
   "id": "093abe50",
   "metadata": {},
   "outputs": [
    {
     "name": "stdout",
     "output_type": "stream",
     "text": [
      "[('AMZN_',)]\n"
     ]
    }
   ],
   "source": [
    "print(cur.fetchall())"
   ]
  },
  {
   "cell_type": "code",
   "execution_count": 8,
   "id": "3574f5a4",
   "metadata": {},
   "outputs": [
    {
     "name": "stdout",
     "output_type": "stream",
     "text": [
      "(93,)\n"
     ]
    }
   ],
   "source": [
    "cur.execute(\"SELECT count(*) FROM amzn_;\")\n",
    "one_result = cur.fetchone()\n",
    "print(one_result)"
   ]
  },
  {
   "cell_type": "code",
   "execution_count": 9,
   "id": "40126830",
   "metadata": {},
   "outputs": [
    {
     "name": "stdout",
     "output_type": "stream",
     "text": [
      "('company', 1684793891, 'AI, Amazon, Walmart, Warner Bros. Discovery: Stocks to watch', 120490433, 'https://s.yimg.com/ny/api/res/1.2/CPT6VgqQAbKu9oxXj9Y3.w--/YXBwaWQ9aGlnaGxhbmRlcjt3PTEyMDA7aD02NzU-/https://s.yimg.com/os/creatr-uploaded-images/2023-05/8ab6ef70-f8e4-11ed-bfaf-cdac15e48ed5', 'AMZN', 'Yahoo', \"The Yahoo Finance Live team discusses the risks of AI and misinformation, Amazon One launching an age verification method for alcohol sales using one's hand, Walmart+ members access to pet telehealth, and Warner Bros. Discovery CEO David Zaslav being booed at Boston University's graduation ceremony.\", 'https://finnhub.io/api/news?id=7b449dffb304793925f37d46beef2033772a3a812a6fa2011e30d6a3cfda50fc')\n"
     ]
    }
   ],
   "source": [
    "cur.execute(\"SELECT * FROM amzn_;\")\n",
    "one_result = cur.fetchone()\n",
    "print(one_result)"
   ]
  },
  {
   "cell_type": "code",
   "execution_count": 10,
   "id": "743a7f2b",
   "metadata": {},
   "outputs": [],
   "source": [
    "df = pd.read_sql(\"select * from amzn_\", conn)"
   ]
  },
  {
   "cell_type": "code",
   "execution_count": 13,
   "id": "821c7351",
   "metadata": {},
   "outputs": [
    {
     "data": {
      "text/html": [
       "<div>\n",
       "<style scoped>\n",
       "    .dataframe tbody tr th:only-of-type {\n",
       "        vertical-align: middle;\n",
       "    }\n",
       "\n",
       "    .dataframe tbody tr th {\n",
       "        vertical-align: top;\n",
       "    }\n",
       "\n",
       "    .dataframe thead th {\n",
       "        text-align: right;\n",
       "    }\n",
       "</style>\n",
       "<table border=\"1\" class=\"dataframe\">\n",
       "  <thead>\n",
       "    <tr style=\"text-align: right;\">\n",
       "      <th></th>\n",
       "      <th>category</th>\n",
       "      <th>datetime</th>\n",
       "      <th>headline</th>\n",
       "      <th>id</th>\n",
       "      <th>image</th>\n",
       "      <th>related</th>\n",
       "      <th>source</th>\n",
       "      <th>summary</th>\n",
       "      <th>url</th>\n",
       "    </tr>\n",
       "  </thead>\n",
       "  <tbody>\n",
       "    <tr>\n",
       "      <th>0</th>\n",
       "      <td>company</td>\n",
       "      <td>1684793891</td>\n",
       "      <td>AI, Amazon, Walmart, Warner Bros. Discovery: S...</td>\n",
       "      <td>120490433</td>\n",
       "      <td>https://s.yimg.com/ny/api/res/1.2/CPT6VgqQAbKu...</td>\n",
       "      <td>AMZN</td>\n",
       "      <td>Yahoo</td>\n",
       "      <td>The Yahoo Finance Live team discusses the risk...</td>\n",
       "      <td>https://finnhub.io/api/news?id=7b449dffb304793...</td>\n",
       "    </tr>\n",
       "    <tr>\n",
       "      <th>1</th>\n",
       "      <td>company</td>\n",
       "      <td>1684792679</td>\n",
       "      <td>What Is Going On With Amazon Stock Monday</td>\n",
       "      <td>120490931</td>\n",
       "      <td>https://media.zenfs.com/en/Benzinga/832245add7...</td>\n",
       "      <td>AMZN</td>\n",
       "      <td>Yahoo</td>\n",
       "      <td>Amazon.Com, Inc (NASDAQ: AMZN) stock is tradin...</td>\n",
       "      <td>https://finnhub.io/api/news?id=35c4a820b60c1bc...</td>\n",
       "    </tr>\n",
       "    <tr>\n",
       "      <th>2</th>\n",
       "      <td>company</td>\n",
       "      <td>1684782214</td>\n",
       "      <td>Consumer Discretionary ETF And Amazon Are Buys...</td>\n",
       "      <td>120490125</td>\n",
       "      <td>https://static.seekingalpha.com/cdn/s3/uploads...</td>\n",
       "      <td>AMZN</td>\n",
       "      <td>SeekingAlpha</td>\n",
       "      <td>XLY has bullish price action. AMZN has bullish...</td>\n",
       "      <td>https://finnhub.io/api/news?id=9fb4a722efa80b8...</td>\n",
       "    </tr>\n",
       "    <tr>\n",
       "      <th>3</th>\n",
       "      <td>company</td>\n",
       "      <td>1684776611</td>\n",
       "      <td>2 Truths and a Lie About Costco</td>\n",
       "      <td>120490740</td>\n",
       "      <td>https://media.zenfs.com/en/motleyfool.com/8227...</td>\n",
       "      <td>AMZN</td>\n",
       "      <td>Yahoo</td>\n",
       "      <td>Joining Costco is a great way to reap savings ...</td>\n",
       "      <td>https://finnhub.io/api/news?id=d220a4e94191ca1...</td>\n",
       "    </tr>\n",
       "    <tr>\n",
       "      <th>4</th>\n",
       "      <td>company</td>\n",
       "      <td>1684776120</td>\n",
       "      <td>Is The Consumer Cracking?</td>\n",
       "      <td>120488570</td>\n",
       "      <td>https://static.seekingalpha.com/cdn/s3/uploads...</td>\n",
       "      <td>AMZN</td>\n",
       "      <td>SeekingAlpha</td>\n",
       "      <td>Data and statements put out by U.S. consumer c...</td>\n",
       "      <td>https://finnhub.io/api/news?id=e7218d76548392b...</td>\n",
       "    </tr>\n",
       "    <tr>\n",
       "      <th>...</th>\n",
       "      <td>...</td>\n",
       "      <td>...</td>\n",
       "      <td>...</td>\n",
       "      <td>...</td>\n",
       "      <td>...</td>\n",
       "      <td>...</td>\n",
       "      <td>...</td>\n",
       "      <td>...</td>\n",
       "      <td>...</td>\n",
       "    </tr>\n",
       "    <tr>\n",
       "      <th>88</th>\n",
       "      <td>company</td>\n",
       "      <td>1684813440</td>\n",
       "      <td>Mizuho ups Amazon target, names a top pick for...</td>\n",
       "      <td>120509718</td>\n",
       "      <td></td>\n",
       "      <td>AMZN</td>\n",
       "      <td>Thefly.com</td>\n",
       "      <td>Looking for stock market analysis and research...</td>\n",
       "      <td>https://finnhub.io/api/news?id=1736d72cbe9e98f...</td>\n",
       "    </tr>\n",
       "    <tr>\n",
       "      <th>89</th>\n",
       "      <td>company</td>\n",
       "      <td>1684812300</td>\n",
       "      <td>What You Missed On Wall Street On Tuesday</td>\n",
       "      <td>120507521</td>\n",
       "      <td></td>\n",
       "      <td>AMZN</td>\n",
       "      <td>Thefly.com</td>\n",
       "      <td>Looking for stock market analysis and research...</td>\n",
       "      <td>https://finnhub.io/api/news?id=2d00ab0b50c746c...</td>\n",
       "    </tr>\n",
       "    <tr>\n",
       "      <th>90</th>\n",
       "      <td>company</td>\n",
       "      <td>1684812000</td>\n",
       "      <td>Amazon.com Unusual Options Activity For May 23</td>\n",
       "      <td>120509723</td>\n",
       "      <td></td>\n",
       "      <td>AMZN</td>\n",
       "      <td>Benzinga</td>\n",
       "      <td>Looking for stock market analysis and research...</td>\n",
       "      <td>https://finnhub.io/api/news?id=564f19201eb2929...</td>\n",
       "    </tr>\n",
       "    <tr>\n",
       "      <th>91</th>\n",
       "      <td>company</td>\n",
       "      <td>1684801560</td>\n",
       "      <td>Unusual Put Option Trade in Amazon.com (AMZN) ...</td>\n",
       "      <td>120490577</td>\n",
       "      <td></td>\n",
       "      <td>AMZN</td>\n",
       "      <td>Fintel</td>\n",
       "      <td></td>\n",
       "      <td>https://finnhub.io/api/news?id=3e7054542f01db8...</td>\n",
       "    </tr>\n",
       "    <tr>\n",
       "      <th>92</th>\n",
       "      <td>company</td>\n",
       "      <td>1684800382</td>\n",
       "      <td>Amazon Covid Changes and CEO's Anti-Union Comm...</td>\n",
       "      <td>120490929</td>\n",
       "      <td>https://s.yimg.com/ny/api/res/1.2/N06r1.oH26sr...</td>\n",
       "      <td>AMZN</td>\n",
       "      <td>Yahoo</td>\n",
       "      <td>(Bloomberg) -- Amazon.com Inc. repeatedly viol...</td>\n",
       "      <td>https://finnhub.io/api/news?id=803f2a0fed25206...</td>\n",
       "    </tr>\n",
       "  </tbody>\n",
       "</table>\n",
       "<p>93 rows × 9 columns</p>\n",
       "</div>"
      ],
      "text/plain": [
       "   category    datetime                                           headline  \\\n",
       "0   company  1684793891  AI, Amazon, Walmart, Warner Bros. Discovery: S...   \n",
       "1   company  1684792679          What Is Going On With Amazon Stock Monday   \n",
       "2   company  1684782214  Consumer Discretionary ETF And Amazon Are Buys...   \n",
       "3   company  1684776611                    2 Truths and a Lie About Costco   \n",
       "4   company  1684776120                          Is The Consumer Cracking?   \n",
       "..      ...         ...                                                ...   \n",
       "88  company  1684813440  Mizuho ups Amazon target, names a top pick for...   \n",
       "89  company  1684812300          What You Missed On Wall Street On Tuesday   \n",
       "90  company  1684812000     Amazon.com Unusual Options Activity For May 23   \n",
       "91  company  1684801560  Unusual Put Option Trade in Amazon.com (AMZN) ...   \n",
       "92  company  1684800382  Amazon Covid Changes and CEO's Anti-Union Comm...   \n",
       "\n",
       "           id                                              image related  \\\n",
       "0   120490433  https://s.yimg.com/ny/api/res/1.2/CPT6VgqQAbKu...    AMZN   \n",
       "1   120490931  https://media.zenfs.com/en/Benzinga/832245add7...    AMZN   \n",
       "2   120490125  https://static.seekingalpha.com/cdn/s3/uploads...    AMZN   \n",
       "3   120490740  https://media.zenfs.com/en/motleyfool.com/8227...    AMZN   \n",
       "4   120488570  https://static.seekingalpha.com/cdn/s3/uploads...    AMZN   \n",
       "..        ...                                                ...     ...   \n",
       "88  120509718                                                       AMZN   \n",
       "89  120507521                                                       AMZN   \n",
       "90  120509723                                                       AMZN   \n",
       "91  120490577                                                       AMZN   \n",
       "92  120490929  https://s.yimg.com/ny/api/res/1.2/N06r1.oH26sr...    AMZN   \n",
       "\n",
       "          source                                            summary  \\\n",
       "0          Yahoo  The Yahoo Finance Live team discusses the risk...   \n",
       "1          Yahoo  Amazon.Com, Inc (NASDAQ: AMZN) stock is tradin...   \n",
       "2   SeekingAlpha  XLY has bullish price action. AMZN has bullish...   \n",
       "3          Yahoo  Joining Costco is a great way to reap savings ...   \n",
       "4   SeekingAlpha  Data and statements put out by U.S. consumer c...   \n",
       "..           ...                                                ...   \n",
       "88    Thefly.com  Looking for stock market analysis and research...   \n",
       "89    Thefly.com  Looking for stock market analysis and research...   \n",
       "90      Benzinga  Looking for stock market analysis and research...   \n",
       "91        Fintel                                                      \n",
       "92         Yahoo  (Bloomberg) -- Amazon.com Inc. repeatedly viol...   \n",
       "\n",
       "                                                  url  \n",
       "0   https://finnhub.io/api/news?id=7b449dffb304793...  \n",
       "1   https://finnhub.io/api/news?id=35c4a820b60c1bc...  \n",
       "2   https://finnhub.io/api/news?id=9fb4a722efa80b8...  \n",
       "3   https://finnhub.io/api/news?id=d220a4e94191ca1...  \n",
       "4   https://finnhub.io/api/news?id=e7218d76548392b...  \n",
       "..                                                ...  \n",
       "88  https://finnhub.io/api/news?id=1736d72cbe9e98f...  \n",
       "89  https://finnhub.io/api/news?id=2d00ab0b50c746c...  \n",
       "90  https://finnhub.io/api/news?id=564f19201eb2929...  \n",
       "91  https://finnhub.io/api/news?id=3e7054542f01db8...  \n",
       "92  https://finnhub.io/api/news?id=803f2a0fed25206...  \n",
       "\n",
       "[93 rows x 9 columns]"
      ]
     },
     "execution_count": 13,
     "metadata": {},
     "output_type": "execute_result"
    }
   ],
   "source": [
    "df"
   ]
  },
  {
   "cell_type": "code",
   "execution_count": 16,
   "id": "52f712cd",
   "metadata": {},
   "outputs": [
    {
     "data": {
      "text/plain": [
       "\"The Yahoo Finance Live team discusses the risks of AI and misinformation, Amazon One launching an age verification method for alcohol sales using one's hand, Walmart+ members access to pet telehealth, and Warner Bros. Discovery CEO David Zaslav being booed at Boston University's graduation ceremony.\""
      ]
     },
     "execution_count": 16,
     "metadata": {},
     "output_type": "execute_result"
    }
   ],
   "source": [
    "df['summary'][0]"
   ]
  },
  {
   "cell_type": "markdown",
   "id": "fb423460",
   "metadata": {},
   "source": [
    "## Второй запрос"
   ]
  },
  {
   "cell_type": "code",
   "execution_count": 18,
   "id": "a491caa1",
   "metadata": {},
   "outputs": [],
   "source": [
    "from datetime import datetime"
   ]
  },
  {
   "cell_type": "code",
   "execution_count": 11,
   "id": "9d1e6574",
   "metadata": {},
   "outputs": [],
   "source": [
    "con = sqlite3.connect(r'/Users/macbook/PycharmProjects/pipenv_demo/output/2022-09-22_2023-05-22/financial_data.db')"
   ]
  },
  {
   "cell_type": "code",
   "execution_count": 12,
   "id": "2703c6d4",
   "metadata": {},
   "outputs": [],
   "source": [
    "df = pd.read_sql(\"select * from amzn_\", con)"
   ]
  },
  {
   "cell_type": "code",
   "execution_count": 13,
   "id": "9162e396",
   "metadata": {},
   "outputs": [
    {
     "data": {
      "text/html": [
       "<div>\n",
       "<style scoped>\n",
       "    .dataframe tbody tr th:only-of-type {\n",
       "        vertical-align: middle;\n",
       "    }\n",
       "\n",
       "    .dataframe tbody tr th {\n",
       "        vertical-align: top;\n",
       "    }\n",
       "\n",
       "    .dataframe thead th {\n",
       "        text-align: right;\n",
       "    }\n",
       "</style>\n",
       "<table border=\"1\" class=\"dataframe\">\n",
       "  <thead>\n",
       "    <tr style=\"text-align: right;\">\n",
       "      <th></th>\n",
       "      <th>category</th>\n",
       "      <th>datetime</th>\n",
       "      <th>headline</th>\n",
       "      <th>id</th>\n",
       "      <th>image</th>\n",
       "      <th>related</th>\n",
       "      <th>source</th>\n",
       "      <th>summary</th>\n",
       "      <th>url</th>\n",
       "    </tr>\n",
       "  </thead>\n",
       "  <tbody>\n",
       "    <tr>\n",
       "      <th>0</th>\n",
       "      <td>company</td>\n",
       "      <td>1663884120</td>\n",
       "      <td>Here’s everything coming to Amazon’s Prime Vid...</td>\n",
       "      <td>116202937</td>\n",
       "      <td></td>\n",
       "      <td>AMZN</td>\n",
       "      <td>Yahoo</td>\n",
       "      <td>Get ready for the sci-fi thriller 'The Periphe...</td>\n",
       "      <td>https://finnhub.io/api/news?id=1a3d91a22db6bc3...</td>\n",
       "    </tr>\n",
       "    <tr>\n",
       "      <th>1</th>\n",
       "      <td>company</td>\n",
       "      <td>1663880864</td>\n",
       "      <td>Amazon beats own expectations for Thursday Nig...</td>\n",
       "      <td>116202939</td>\n",
       "      <td>https://s.yimg.com/ny/api/res/1.2/XG5HwE4BoA5j...</td>\n",
       "      <td>AMZN</td>\n",
       "      <td>Yahoo</td>\n",
       "      <td>Amazon reportedly outperforms its own viewing ...</td>\n",
       "      <td>https://finnhub.io/api/news?id=20aa1dded0275cd...</td>\n",
       "    </tr>\n",
       "    <tr>\n",
       "      <th>2</th>\n",
       "      <td>company</td>\n",
       "      <td>1663879709</td>\n",
       "      <td>Why Shopify Stock Was Getting Dumped Today</td>\n",
       "      <td>116198245</td>\n",
       "      <td></td>\n",
       "      <td>AMZN</td>\n",
       "      <td>Yahoo</td>\n",
       "      <td>Shopify (NYSE: SHOP) stock was among the big l...</td>\n",
       "      <td>https://finnhub.io/api/news?id=bb837aca2c6e57f...</td>\n",
       "    </tr>\n",
       "  </tbody>\n",
       "</table>\n",
       "</div>"
      ],
      "text/plain": [
       "  category    datetime                                           headline  \\\n",
       "0  company  1663884120  Here’s everything coming to Amazon’s Prime Vid...   \n",
       "1  company  1663880864  Amazon beats own expectations for Thursday Nig...   \n",
       "2  company  1663879709         Why Shopify Stock Was Getting Dumped Today   \n",
       "\n",
       "          id                                              image related  \\\n",
       "0  116202937                                                       AMZN   \n",
       "1  116202939  https://s.yimg.com/ny/api/res/1.2/XG5HwE4BoA5j...    AMZN   \n",
       "2  116198245                                                       AMZN   \n",
       "\n",
       "  source                                            summary  \\\n",
       "0  Yahoo  Get ready for the sci-fi thriller 'The Periphe...   \n",
       "1  Yahoo  Amazon reportedly outperforms its own viewing ...   \n",
       "2  Yahoo  Shopify (NYSE: SHOP) stock was among the big l...   \n",
       "\n",
       "                                                 url  \n",
       "0  https://finnhub.io/api/news?id=1a3d91a22db6bc3...  \n",
       "1  https://finnhub.io/api/news?id=20aa1dded0275cd...  \n",
       "2  https://finnhub.io/api/news?id=bb837aca2c6e57f...  "
      ]
     },
     "execution_count": 13,
     "metadata": {},
     "output_type": "execute_result"
    }
   ],
   "source": [
    "df.head(3) # 8 месяцев данных и 5 минут запроса - 7349 строк"
   ]
  },
  {
   "cell_type": "code",
   "execution_count": 60,
   "id": "33698588",
   "metadata": {},
   "outputs": [
    {
     "name": "stdout",
     "output_type": "stream",
     "text": [
      "2022-09-22 22:02:00\n"
     ]
    }
   ],
   "source": [
    "ts = int('1663884120')\n",
    "print(datetime.utcfromtimestamp(ts).strftime('%Y-%m-%d %H:%M:%S'))"
   ]
  },
  {
   "cell_type": "code",
   "execution_count": 47,
   "id": "effef8bb",
   "metadata": {},
   "outputs": [],
   "source": [
    "data = df[['headline', 'summary']].copy()"
   ]
  },
  {
   "cell_type": "code",
   "execution_count": 48,
   "id": "282ca284",
   "metadata": {},
   "outputs": [
    {
     "data": {
      "text/plain": [
       "('Shopping Center REITs: Bargain Hunting',\n",
       " 'Shopping Center REITs are one of the better-performing property sectors this year- outpacing their mall REIT peers. Read our latest analysis here.')"
      ]
     },
     "execution_count": 48,
     "metadata": {},
     "output_type": "execute_result"
    }
   ],
   "source": [
    "data.headline[1000], data.summary[1000]"
   ]
  },
  {
   "cell_type": "code",
   "execution_count": 55,
   "id": "b7320da6",
   "metadata": {},
   "outputs": [],
   "source": [
    "data['dt'] = df['datetime'] #datetime.utcfromtimestamp(ts).strftime('%Y-%m-%d %H:%M:%S') "
   ]
  },
  {
   "cell_type": "code",
   "execution_count": 62,
   "id": "f69a1562",
   "metadata": {},
   "outputs": [],
   "source": [
    "data['dt'] = pd.to_datetime(df['datetime'],unit='s')"
   ]
  },
  {
   "cell_type": "code",
   "execution_count": 63,
   "id": "798f6d7b",
   "metadata": {},
   "outputs": [
    {
     "data": {
      "text/html": [
       "<div>\n",
       "<style scoped>\n",
       "    .dataframe tbody tr th:only-of-type {\n",
       "        vertical-align: middle;\n",
       "    }\n",
       "\n",
       "    .dataframe tbody tr th {\n",
       "        vertical-align: top;\n",
       "    }\n",
       "\n",
       "    .dataframe thead th {\n",
       "        text-align: right;\n",
       "    }\n",
       "</style>\n",
       "<table border=\"1\" class=\"dataframe\">\n",
       "  <thead>\n",
       "    <tr style=\"text-align: right;\">\n",
       "      <th></th>\n",
       "      <th>headline</th>\n",
       "      <th>summary</th>\n",
       "      <th>dt</th>\n",
       "    </tr>\n",
       "  </thead>\n",
       "  <tbody>\n",
       "    <tr>\n",
       "      <th>0</th>\n",
       "      <td>Here’s everything coming to Amazon’s Prime Vid...</td>\n",
       "      <td>Get ready for the sci-fi thriller 'The Periphe...</td>\n",
       "      <td>2022-09-22 22:02:00</td>\n",
       "    </tr>\n",
       "    <tr>\n",
       "      <th>1</th>\n",
       "      <td>Amazon beats own expectations for Thursday Nig...</td>\n",
       "      <td>Amazon reportedly outperforms its own viewing ...</td>\n",
       "      <td>2022-09-22 21:07:44</td>\n",
       "    </tr>\n",
       "    <tr>\n",
       "      <th>2</th>\n",
       "      <td>Why Shopify Stock Was Getting Dumped Today</td>\n",
       "      <td>Shopify (NYSE: SHOP) stock was among the big l...</td>\n",
       "      <td>2022-09-22 20:48:29</td>\n",
       "    </tr>\n",
       "    <tr>\n",
       "      <th>3</th>\n",
       "      <td>Walmart to Offer Free Return Pickups at Home f...</td>\n",
       "      <td>The company said Walmart+ subscribers in some ...</td>\n",
       "      <td>2022-09-22 20:26:00</td>\n",
       "    </tr>\n",
       "    <tr>\n",
       "      <th>4</th>\n",
       "      <td>Why Pessimism Can Be Good for Stock Investors</td>\n",
       "      <td>Motley Fool senior analyst Tim Beyers talks wi...</td>\n",
       "      <td>2022-09-22 20:05:00</td>\n",
       "    </tr>\n",
       "    <tr>\n",
       "      <th>...</th>\n",
       "      <td>...</td>\n",
       "      <td>...</td>\n",
       "      <td>...</td>\n",
       "    </tr>\n",
       "    <tr>\n",
       "      <th>7344</th>\n",
       "      <td>The Uber Stock (NYSE:UBER) Ride Continues Head...</td>\n",
       "      <td>Looking for stock market analysis and research...</td>\n",
       "      <td>2023-05-22 04:45:00</td>\n",
       "    </tr>\n",
       "    <tr>\n",
       "      <th>7345</th>\n",
       "      <td>The Unch'd Effect: Why Markets Feel So Hostile</td>\n",
       "      <td>Looking for stock market analysis and research...</td>\n",
       "      <td>2023-05-22 04:24:00</td>\n",
       "    </tr>\n",
       "    <tr>\n",
       "      <th>7346</th>\n",
       "      <td>Amazon (NASDAQ:AMZN) Stock Poised to Rise Furt...</td>\n",
       "      <td>Looking for stock market analysis and research...</td>\n",
       "      <td>2023-05-22 04:21:00</td>\n",
       "    </tr>\n",
       "    <tr>\n",
       "      <th>7347</th>\n",
       "      <td>Apple Stake Boosted By Power Corp Of Canada Wh...</td>\n",
       "      <td>Looking for stock market analysis and research...</td>\n",
       "      <td>2023-05-22 02:34:00</td>\n",
       "    </tr>\n",
       "    <tr>\n",
       "      <th>7348</th>\n",
       "      <td>Microsoft’s Activision Deal Has Split Regulato...</td>\n",
       "      <td>The technology giant's proposed $69 billion ta...</td>\n",
       "      <td>2023-05-22 00:01:00</td>\n",
       "    </tr>\n",
       "  </tbody>\n",
       "</table>\n",
       "<p>7349 rows × 3 columns</p>\n",
       "</div>"
      ],
      "text/plain": [
       "                                               headline  \\\n",
       "0     Here’s everything coming to Amazon’s Prime Vid...   \n",
       "1     Amazon beats own expectations for Thursday Nig...   \n",
       "2            Why Shopify Stock Was Getting Dumped Today   \n",
       "3     Walmart to Offer Free Return Pickups at Home f...   \n",
       "4         Why Pessimism Can Be Good for Stock Investors   \n",
       "...                                                 ...   \n",
       "7344  The Uber Stock (NYSE:UBER) Ride Continues Head...   \n",
       "7345     The Unch'd Effect: Why Markets Feel So Hostile   \n",
       "7346  Amazon (NASDAQ:AMZN) Stock Poised to Rise Furt...   \n",
       "7347  Apple Stake Boosted By Power Corp Of Canada Wh...   \n",
       "7348  Microsoft’s Activision Deal Has Split Regulato...   \n",
       "\n",
       "                                                summary                  dt  \n",
       "0     Get ready for the sci-fi thriller 'The Periphe... 2022-09-22 22:02:00  \n",
       "1     Amazon reportedly outperforms its own viewing ... 2022-09-22 21:07:44  \n",
       "2     Shopify (NYSE: SHOP) stock was among the big l... 2022-09-22 20:48:29  \n",
       "3     The company said Walmart+ subscribers in some ... 2022-09-22 20:26:00  \n",
       "4     Motley Fool senior analyst Tim Beyers talks wi... 2022-09-22 20:05:00  \n",
       "...                                                 ...                 ...  \n",
       "7344  Looking for stock market analysis and research... 2023-05-22 04:45:00  \n",
       "7345  Looking for stock market analysis and research... 2023-05-22 04:24:00  \n",
       "7346  Looking for stock market analysis and research... 2023-05-22 04:21:00  \n",
       "7347  Looking for stock market analysis and research... 2023-05-22 02:34:00  \n",
       "7348  The technology giant's proposed $69 billion ta... 2023-05-22 00:01:00  \n",
       "\n",
       "[7349 rows x 3 columns]"
      ]
     },
     "execution_count": 63,
     "metadata": {},
     "output_type": "execute_result"
    }
   ],
   "source": [
    "data"
   ]
  },
  {
   "cell_type": "code",
   "execution_count": null,
   "id": "fb28904e",
   "metadata": {},
   "outputs": [],
   "source": []
  },
  {
   "cell_type": "markdown",
   "id": "f3135448",
   "metadata": {},
   "source": [
    "### Другое"
   ]
  },
  {
   "cell_type": "code",
   "execution_count": 7,
   "id": "e31090b9",
   "metadata": {},
   "outputs": [
    {
     "name": "stdout",
     "output_type": "stream",
     "text": [
      "Package               Version\n",
      "--------------------- -----------\n",
      "altair                5.0.1\n",
      "anyio                 3.7.0\n",
      "appnope               0.1.3\n",
      "argon2-cffi           21.3.0\n",
      "argon2-cffi-bindings  21.2.0\n",
      "attrs                 23.1.0\n",
      "backcall              0.2.0\n",
      "backports.zoneinfo    0.2.1\n",
      "beautifulsoup4        4.9.3\n",
      "bleach                6.0.0\n",
      "blinker               1.6.2\n",
      "bs4                   0.0.1\n",
      "cachetools            5.3.1\n",
      "certifi               2020.12.5\n",
      "cffi                  1.15.1\n",
      "chardet               4.0.0\n",
      "click                 8.1.5\n",
      "debugpy               1.6.7\n",
      "decorator             5.1.1\n",
      "defusedxml            0.7.1\n",
      "entrypoints           0.4\n",
      "exceptiongroup        1.1.2\n",
      "fastjsonschema        2.17.1\n",
      "gitdb                 4.0.10\n",
      "GitPython             3.1.32\n",
      "idna                  2.10\n",
      "importlib-metadata    6.7.0\n",
      "importlib-resources   5.12.0\n",
      "ipykernel             6.16.2\n",
      "ipython               7.34.0\n",
      "ipython-genutils      0.2.0\n",
      "ipywidgets            8.0.7\n",
      "jedi                  0.18.2\n",
      "Jinja2                3.1.2\n",
      "joblib                1.3.1\n",
      "jsonschema            4.17.3\n",
      "jupyter               1.0.0\n",
      "jupyter_client        7.4.9\n",
      "jupyter-console       6.6.3\n",
      "jupyter_core          4.12.0\n",
      "jupyter-server        1.24.0\n",
      "jupyterlab-pygments   0.2.2\n",
      "jupyterlab-widgets    3.0.8\n",
      "langdetect            1.0.8\n",
      "lxml                  4.6.2\n",
      "markdown-it-py        2.2.0\n",
      "MarkupSafe            2.1.3\n",
      "matplotlib-inline     0.1.6\n",
      "mdurl                 0.1.2\n",
      "mistune               3.0.1\n",
      "nbclassic             1.0.0\n",
      "nbclient              0.7.4\n",
      "nbconvert             7.6.0\n",
      "nbformat              5.8.0\n",
      "nest-asyncio          1.5.6\n",
      "notebook              6.5.4\n",
      "notebook_shim         0.2.3\n",
      "numpy                 1.19.5\n",
      "packaging             23.1\n",
      "pandas                1.2.1\n",
      "pandocfilters         1.5.0\n",
      "parso                 0.8.3\n",
      "pexpect               4.8.0\n",
      "pickleshare           0.7.5\n",
      "Pillow                9.5.0\n",
      "pip                   22.3.1\n",
      "pkgutil_resolve_name  1.3.10\n",
      "prometheus-client     0.17.0\n",
      "prompt-toolkit        3.0.39\n",
      "protobuf              4.23.4\n",
      "psutil                5.9.5\n",
      "ptyprocess            0.7.0\n",
      "pyarrow               12.0.1\n",
      "pycparser             2.21\n",
      "pydeck                0.8.1b0\n",
      "Pygments              2.15.1\n",
      "Pympler               1.0.1\n",
      "pyparsing             3.1.0\n",
      "pyrsistent            0.19.3\n",
      "python-dateutil       2.8.2\n",
      "python-decouple       3.4\n",
      "pytz                  2020.5\n",
      "pytz-deprecation-shim 0.1.0.post0\n",
      "pyzmq                 25.1.0\n",
      "qtconsole             5.4.3\n",
      "QtPy                  2.3.1\n",
      "requests              2.25.1\n",
      "rich                  13.4.2\n",
      "scikit-learn          1.0.2\n",
      "scipy                 1.7.3\n",
      "Send2Trash            1.8.2\n",
      "setuptools            65.6.3\n",
      "six                   1.15.0\n",
      "smmap                 5.0.0\n",
      "sniffio               1.3.0\n",
      "soupsieve             2.1\n",
      "streamlit             1.23.1\n",
      "tenacity              8.2.2\n",
      "terminado             0.17.1\n",
      "threadpoolctl         3.1.0\n",
      "tinycss2              1.2.1\n",
      "toml                  0.10.2\n",
      "toolz                 0.12.0\n",
      "torch                 1.13.1\n",
      "torch-geometric       2.3.1\n",
      "tornado               6.2\n",
      "tqdm                  4.65.0\n",
      "traitlets             5.9.0\n",
      "typing_extensions     4.7.1\n",
      "tzdata                2023.3\n",
      "tzlocal               4.3.1\n",
      "urllib3               1.26.3\n",
      "validators            0.20.0\n",
      "wcwidth               0.2.6\n",
      "webencodings          0.5.1\n",
      "websocket-client      1.6.1\n",
      "wheel                 0.38.4\n",
      "widgetsnbextension    4.0.8\n",
      "zipp                  3.15.0\n"
     ]
    }
   ],
   "source": [
    "!pip list"
   ]
  },
  {
   "cell_type": "code",
   "execution_count": 2,
   "id": "cbfcc4ef",
   "metadata": {},
   "outputs": [
    {
     "name": "stdout",
     "output_type": "stream",
     "text": [
      "Collecting streamlit\n",
      "  Downloading streamlit-1.23.1-py2.py3-none-any.whl (8.9 MB)\n",
      "\u001b[2K     \u001b[90m━━━━━━━━━━━━━━━━━━━━━━━━━━━━━━━━━━━━━━━━\u001b[0m \u001b[32m8.9/8.9 MB\u001b[0m \u001b[31m174.2 kB/s\u001b[0m eta \u001b[36m0:00:00\u001b[0m00:01\u001b[0m00:02\u001b[0m\n",
      "\u001b[?25hCollecting tzlocal<5,>=1.1\n",
      "  Downloading tzlocal-4.3.1-py3-none-any.whl (20 kB)\n",
      "Collecting pympler<2,>=0.9\n",
      "  Downloading Pympler-1.0.1-py3-none-any.whl (164 kB)\n",
      "\u001b[2K     \u001b[90m━━━━━━━━━━━━━━━━━━━━━━━━━━━━━━━━━━━━━━\u001b[0m \u001b[32m164.8/164.8 kB\u001b[0m \u001b[31m83.4 kB/s\u001b[0m eta \u001b[36m0:00:00\u001b[0m00:01\u001b[0m00:01\u001b[0m\n",
      "\u001b[?25hRequirement already satisfied: pandas<3,>=0.25 in /Users/macbook/opt/anaconda3/envs/p37/lib/python3.7/site-packages (from streamlit) (1.2.1)\n",
      "Collecting pyarrow>=4.0\n",
      "  Downloading pyarrow-12.0.1-cp37-cp37m-macosx_10_14_x86_64.whl (24.7 MB)\n",
      "\u001b[2K     \u001b[90m━━━━━━━━━━━━━━━━━━━━━━━━━━━━━━━━━━━━━━━\u001b[0m \u001b[32m24.7/24.7 MB\u001b[0m \u001b[31m472.4 kB/s\u001b[0m eta \u001b[36m0:00:00\u001b[0m00:01\u001b[0m00:02\u001b[0m\n",
      "\u001b[?25hRequirement already satisfied: tornado<7,>=6.0.3 in /Users/macbook/opt/anaconda3/envs/p37/lib/python3.7/site-packages (from streamlit) (6.2)\n",
      "Requirement already satisfied: numpy<2,>=1 in /Users/macbook/opt/anaconda3/envs/p37/lib/python3.7/site-packages (from streamlit) (1.19.5)\n",
      "Collecting blinker<2,>=1.0.0\n",
      "  Downloading blinker-1.6.2-py3-none-any.whl (13 kB)\n",
      "Collecting cachetools<6,>=4.0\n",
      "  Downloading cachetools-5.3.1-py3-none-any.whl (9.3 kB)\n",
      "Requirement already satisfied: requests<3,>=2.4 in /Users/macbook/opt/anaconda3/envs/p37/lib/python3.7/site-packages (from streamlit) (2.25.1)\n",
      "Collecting protobuf<5,>=3.20\n",
      "  Downloading protobuf-4.23.4-cp37-abi3-macosx_10_9_universal2.whl (400 kB)\n",
      "\u001b[2K     \u001b[90m━━━━━━━━━━━━━━━━━━━━━━━━━━━━━━━━━━━━━\u001b[0m \u001b[32m400.3/400.3 kB\u001b[0m \u001b[31m674.3 kB/s\u001b[0m eta \u001b[36m0:00:00\u001b[0ma \u001b[36m0:00:01\u001b[0m\n",
      "\u001b[?25hRequirement already satisfied: typing-extensions<5,>=4.0.1 in /Users/macbook/opt/anaconda3/envs/p37/lib/python3.7/site-packages (from streamlit) (4.7.1)\n",
      "Collecting rich<14,>=10.11.0\n",
      "  Downloading rich-13.4.2-py3-none-any.whl (239 kB)\n",
      "\u001b[2K     \u001b[90m━━━━━━━━━━━━━━━━━━━━━━━━━━━━━━━━━━━━━\u001b[0m \u001b[32m239.4/239.4 kB\u001b[0m \u001b[31m768.8 kB/s\u001b[0m eta \u001b[36m0:00:00\u001b[0m00:01\u001b[0m00:01\u001b[0m\n",
      "\u001b[?25hRequirement already satisfied: packaging<24,>=14.1 in /Users/macbook/opt/anaconda3/envs/p37/lib/python3.7/site-packages (from streamlit) (23.1)\n",
      "Collecting gitpython!=3.1.19,<4,>=3\n",
      "  Downloading GitPython-3.1.32-py3-none-any.whl (188 kB)\n",
      "\u001b[2K     \u001b[90m━━━━━━━━━━━━━━━━━━━━━━━━━━━━━━━━━━━━━\u001b[0m \u001b[32m188.5/188.5 kB\u001b[0m \u001b[31m670.4 kB/s\u001b[0m eta \u001b[36m0:00:00\u001b[0ma \u001b[36m0:00:01\u001b[0m\n",
      "\u001b[?25hRequirement already satisfied: python-dateutil<3,>=2 in /Users/macbook/opt/anaconda3/envs/p37/lib/python3.7/site-packages (from streamlit) (2.8.2)\n",
      "Collecting tenacity<9,>=8.0.0\n",
      "  Downloading tenacity-8.2.2-py3-none-any.whl (24 kB)\n",
      "Collecting altair<6,>=4.0\n",
      "  Downloading altair-5.0.1-py3-none-any.whl (471 kB)\n",
      "\u001b[2K     \u001b[90m━━━━━━━━━━━━━━━━━━━━━━━━━━━━━━━━━━━━━\u001b[0m \u001b[32m471.5/471.5 kB\u001b[0m \u001b[31m501.5 kB/s\u001b[0m eta \u001b[36m0:00:00\u001b[0m00:01\u001b[0m00:01\u001b[0m\n",
      "\u001b[?25hCollecting pydeck<1,>=0.1.dev5\n",
      "  Downloading pydeck-0.8.1b0-py2.py3-none-any.whl (4.8 MB)\n",
      "\u001b[2K     \u001b[90m━━━━━━━━━━━━━━━━━━━━━━━━━━━━━━━━━━━━━━━━\u001b[0m \u001b[32m4.8/4.8 MB\u001b[0m \u001b[31m616.8 kB/s\u001b[0m eta \u001b[36m0:00:00\u001b[0m00:01\u001b[0m00:01\u001b[0m\n",
      "\u001b[?25hCollecting pillow<10,>=6.2.0\n",
      "  Downloading Pillow-9.5.0-cp37-cp37m-macosx_10_10_x86_64.whl (3.4 MB)\n",
      "\u001b[2K     \u001b[90m━━━━━━━━━━━━━━━━━━━━━━━━━━━━━━━━━━━━━━━━\u001b[0m \u001b[32m3.4/3.4 MB\u001b[0m \u001b[31m1.0 MB/s\u001b[0m eta \u001b[36m0:00:00\u001b[0m00:01\u001b[0m00:01\u001b[0m0m\n",
      "\u001b[?25hCollecting validators<1,>=0.2\n",
      "  Downloading validators-0.20.0.tar.gz (30 kB)\n",
      "  Preparing metadata (setup.py) ... \u001b[?25ldone\n",
      "\u001b[?25hRequirement already satisfied: importlib-metadata<7,>=1.4 in /Users/macbook/opt/anaconda3/envs/p37/lib/python3.7/site-packages (from streamlit) (6.7.0)\n",
      "Collecting toml<2\n",
      "  Downloading toml-0.10.2-py2.py3-none-any.whl (16 kB)\n",
      "Collecting click<9,>=7.0\n",
      "  Downloading click-8.1.5-py3-none-any.whl (98 kB)\n",
      "\u001b[2K     \u001b[90m━━━━━━━━━━━━━━━━━━━━━━━━━━━━━━━━━━━━━━━\u001b[0m \u001b[32m98.1/98.1 kB\u001b[0m \u001b[31m528.3 kB/s\u001b[0m eta \u001b[36m0:00:00\u001b[0ma \u001b[36m0:00:01\u001b[0m\n",
      "\u001b[?25hRequirement already satisfied: jsonschema>=3.0 in /Users/macbook/opt/anaconda3/envs/p37/lib/python3.7/site-packages (from altair<6,>=4.0->streamlit) (4.17.3)\n",
      "Collecting toolz\n",
      "  Downloading toolz-0.12.0-py3-none-any.whl (55 kB)\n",
      "\u001b[2K     \u001b[90m━━━━━━━━━━━━━━━━━━━━━━━━━━━━━━━━━━━━━━━\u001b[0m \u001b[32m55.8/55.8 kB\u001b[0m \u001b[31m666.8 kB/s\u001b[0m eta \u001b[36m0:00:00\u001b[0m \u001b[36m0:00:01\u001b[0m\n",
      "\u001b[?25hRequirement already satisfied: jinja2 in /Users/macbook/opt/anaconda3/envs/p37/lib/python3.7/site-packages (from altair<6,>=4.0->streamlit) (3.1.2)\n",
      "Collecting gitdb<5,>=4.0.1\n",
      "  Downloading gitdb-4.0.10-py3-none-any.whl (62 kB)\n",
      "\u001b[2K     \u001b[90m━━━━━━━━━━━━━━━━━━━━━━━━━━━━━━━━━━━━━━━\u001b[0m \u001b[32m62.7/62.7 kB\u001b[0m \u001b[31m378.6 kB/s\u001b[0m eta \u001b[36m0:00:00\u001b[0ma \u001b[36m0:00:01\u001b[0m\n",
      "\u001b[?25hRequirement already satisfied: zipp>=0.5 in /Users/macbook/opt/anaconda3/envs/p37/lib/python3.7/site-packages (from importlib-metadata<7,>=1.4->streamlit) (3.15.0)\n",
      "Requirement already satisfied: pytz>=2017.3 in /Users/macbook/opt/anaconda3/envs/p37/lib/python3.7/site-packages (from pandas<3,>=0.25->streamlit) (2020.5)\n",
      "Requirement already satisfied: six>=1.5 in /Users/macbook/opt/anaconda3/envs/p37/lib/python3.7/site-packages (from python-dateutil<3,>=2->streamlit) (1.15.0)\n",
      "Requirement already satisfied: chardet<5,>=3.0.2 in /Users/macbook/opt/anaconda3/envs/p37/lib/python3.7/site-packages (from requests<3,>=2.4->streamlit) (4.0.0)\n",
      "Requirement already satisfied: urllib3<1.27,>=1.21.1 in /Users/macbook/opt/anaconda3/envs/p37/lib/python3.7/site-packages (from requests<3,>=2.4->streamlit) (1.26.3)\n",
      "Requirement already satisfied: certifi>=2017.4.17 in /Users/macbook/opt/anaconda3/envs/p37/lib/python3.7/site-packages (from requests<3,>=2.4->streamlit) (2020.12.5)\n",
      "Requirement already satisfied: idna<3,>=2.5 in /Users/macbook/opt/anaconda3/envs/p37/lib/python3.7/site-packages (from requests<3,>=2.4->streamlit) (2.10)\n",
      "Requirement already satisfied: pygments<3.0.0,>=2.13.0 in /Users/macbook/opt/anaconda3/envs/p37/lib/python3.7/site-packages (from rich<14,>=10.11.0->streamlit) (2.15.1)\n",
      "Collecting markdown-it-py>=2.2.0\n",
      "  Downloading markdown_it_py-2.2.0-py3-none-any.whl (84 kB)\n",
      "\u001b[2K     \u001b[90m━━━━━━━━━━━━━━━━━━━━━━━━━━━━━━━━━━━━━━━━\u001b[0m \u001b[32m84.5/84.5 kB\u001b[0m \u001b[31m77.5 kB/s\u001b[0m eta \u001b[36m0:00:00\u001b[0ma \u001b[36m0:00:01\u001b[0m\n",
      "\u001b[?25hCollecting backports.zoneinfo\n",
      "  Downloading backports.zoneinfo-0.2.1-cp37-cp37m-macosx_10_14_x86_64.whl (35 kB)\n",
      "Collecting pytz-deprecation-shim\n",
      "  Downloading pytz_deprecation_shim-0.1.0.post0-py2.py3-none-any.whl (15 kB)\n",
      "Requirement already satisfied: decorator>=3.4.0 in /Users/macbook/opt/anaconda3/envs/p37/lib/python3.7/site-packages (from validators<1,>=0.2->streamlit) (5.1.1)\n",
      "Collecting smmap<6,>=3.0.1\n",
      "  Downloading smmap-5.0.0-py3-none-any.whl (24 kB)\n",
      "Requirement already satisfied: MarkupSafe>=2.0 in /Users/macbook/opt/anaconda3/envs/p37/lib/python3.7/site-packages (from jinja2->altair<6,>=4.0->streamlit) (2.1.3)\n",
      "Requirement already satisfied: importlib-resources>=1.4.0 in /Users/macbook/opt/anaconda3/envs/p37/lib/python3.7/site-packages (from jsonschema>=3.0->altair<6,>=4.0->streamlit) (5.12.0)\n",
      "Requirement already satisfied: attrs>=17.4.0 in /Users/macbook/opt/anaconda3/envs/p37/lib/python3.7/site-packages (from jsonschema>=3.0->altair<6,>=4.0->streamlit) (23.1.0)\n",
      "Requirement already satisfied: pkgutil-resolve-name>=1.3.10 in /Users/macbook/opt/anaconda3/envs/p37/lib/python3.7/site-packages (from jsonschema>=3.0->altair<6,>=4.0->streamlit) (1.3.10)\n",
      "Requirement already satisfied: pyrsistent!=0.17.0,!=0.17.1,!=0.17.2,>=0.14.0 in /Users/macbook/opt/anaconda3/envs/p37/lib/python3.7/site-packages (from jsonschema>=3.0->altair<6,>=4.0->streamlit) (0.19.3)\n",
      "Collecting mdurl~=0.1\n",
      "  Downloading mdurl-0.1.2-py3-none-any.whl (10.0 kB)\n",
      "Collecting tzdata\n",
      "  Downloading tzdata-2023.3-py2.py3-none-any.whl (341 kB)\n",
      "\u001b[2K     \u001b[90m━━━━━━━━━━━━━━━━━━━━━━━━━━━━━━━━━━━━━\u001b[0m \u001b[32m341.8/341.8 kB\u001b[0m \u001b[31m258.2 kB/s\u001b[0m eta \u001b[36m0:00:00\u001b[0ma \u001b[36m0:00:01\u001b[0m\n",
      "\u001b[?25hBuilding wheels for collected packages: validators\n",
      "  Building wheel for validators (setup.py) ... \u001b[?25ldone\n",
      "\u001b[?25h  Created wheel for validators: filename=validators-0.20.0-py3-none-any.whl size=19581 sha256=2e46a44e03d7c23429d8668c7247c9a38d57ae9da178dc9c9be805c44401cba1\n",
      "  Stored in directory: /Users/macbook/Library/Caches/pip/wheels/3d/7c/f1/f87f51d07a2513aa0fb128d5eb504da1fcef9c87475d9eef64\n",
      "Successfully built validators\n"
     ]
    },
    {
     "name": "stdout",
     "output_type": "stream",
     "text": [
      "Installing collected packages: validators, tzdata, toolz, toml, tenacity, smmap, pympler, pyarrow, protobuf, pillow, mdurl, cachetools, blinker, backports.zoneinfo, pytz-deprecation-shim, pydeck, markdown-it-py, gitdb, click, tzlocal, rich, gitpython, altair, streamlit\n",
      "Successfully installed altair-5.0.1 backports.zoneinfo-0.2.1 blinker-1.6.2 cachetools-5.3.1 click-8.1.5 gitdb-4.0.10 gitpython-3.1.32 markdown-it-py-2.2.0 mdurl-0.1.2 pillow-9.5.0 protobuf-4.23.4 pyarrow-12.0.1 pydeck-0.8.1b0 pympler-1.0.1 pytz-deprecation-shim-0.1.0.post0 rich-13.4.2 smmap-5.0.0 streamlit-1.23.1 tenacity-8.2.2 toml-0.10.2 toolz-0.12.0 tzdata-2023.3 tzlocal-4.3.1 validators-0.20.0\n"
     ]
    }
   ],
   "source": [
    "!pip install streamlit"
   ]
  },
  {
   "cell_type": "code",
   "execution_count": 6,
   "id": "7cbba6e2",
   "metadata": {},
   "outputs": [
    {
     "name": "stdout",
     "output_type": "stream",
     "text": [
      "Collecting torch_geometric\n",
      "  Using cached torch_geometric-2.3.1.tar.gz (661 kB)\n",
      "  Installing build dependencies ... \u001b[?25ldone\n",
      "\u001b[?25h  Getting requirements to build wheel ... \u001b[?25ldone\n",
      "\u001b[?25h  Preparing metadata (pyproject.toml) ... \u001b[?25ldone\n",
      "\u001b[?25hRequirement already satisfied: jinja2 in /Users/macbook/opt/anaconda3/envs/p37/lib/python3.7/site-packages (from torch_geometric) (3.1.2)\n",
      "Collecting tqdm\n",
      "  Using cached tqdm-4.65.0-py3-none-any.whl (77 kB)\n",
      "Requirement already satisfied: psutil>=5.8.0 in /Users/macbook/opt/anaconda3/envs/p37/lib/python3.7/site-packages (from torch_geometric) (5.9.5)\n",
      "Requirement already satisfied: numpy in /Users/macbook/opt/anaconda3/envs/p37/lib/python3.7/site-packages (from torch_geometric) (1.19.5)\n",
      "Requirement already satisfied: requests in /Users/macbook/opt/anaconda3/envs/p37/lib/python3.7/site-packages (from torch_geometric) (2.25.1)\n",
      "Collecting scipy\n",
      "  Downloading scipy-1.7.3-cp37-cp37m-macosx_10_9_x86_64.whl (33.0 MB)\n",
      "\u001b[2K     \u001b[90m━━━━━━━━━━━━━━━━━━━━━━━━━━━━━━━━━━━━━━━\u001b[0m \u001b[32m33.0/33.0 MB\u001b[0m \u001b[31m540.0 kB/s\u001b[0m eta \u001b[36m0:00:00\u001b[0m00:01\u001b[0m00:02\u001b[0m\n",
      "\u001b[?25hCollecting pyparsing\n",
      "  Downloading pyparsing-3.1.0-py3-none-any.whl (102 kB)\n",
      "\u001b[2K     \u001b[90m━━━━━━━━━━━━━━━━━━━━━━━━━━━━━━━━━━━━━━━\u001b[0m \u001b[32m102.6/102.6 kB\u001b[0m \u001b[31m1.5 MB/s\u001b[0m eta \u001b[36m0:00:00\u001b[0ma \u001b[36m0:00:01\u001b[0m\n",
      "\u001b[?25hCollecting scikit-learn\n",
      "  Downloading scikit_learn-1.0.2-cp37-cp37m-macosx_10_13_x86_64.whl (7.8 MB)\n",
      "\u001b[2K     \u001b[90m━━━━━━━━━━━━━━━━━━━━━━━━━━━━━━━━━━━━━━━━\u001b[0m \u001b[32m7.8/7.8 MB\u001b[0m \u001b[31m983.7 kB/s\u001b[0m eta \u001b[36m0:00:00\u001b[0m00:01\u001b[0m00:01\u001b[0m\n",
      "\u001b[?25hRequirement already satisfied: MarkupSafe>=2.0 in /Users/macbook/opt/anaconda3/envs/p37/lib/python3.7/site-packages (from jinja2->torch_geometric) (2.1.3)\n",
      "Requirement already satisfied: idna<3,>=2.5 in /Users/macbook/opt/anaconda3/envs/p37/lib/python3.7/site-packages (from requests->torch_geometric) (2.10)\n",
      "Requirement already satisfied: chardet<5,>=3.0.2 in /Users/macbook/opt/anaconda3/envs/p37/lib/python3.7/site-packages (from requests->torch_geometric) (4.0.0)\n",
      "Requirement already satisfied: certifi>=2017.4.17 in /Users/macbook/opt/anaconda3/envs/p37/lib/python3.7/site-packages (from requests->torch_geometric) (2020.12.5)\n",
      "Requirement already satisfied: urllib3<1.27,>=1.21.1 in /Users/macbook/opt/anaconda3/envs/p37/lib/python3.7/site-packages (from requests->torch_geometric) (1.26.3)\n",
      "Collecting threadpoolctl>=2.0.0\n",
      "  Downloading threadpoolctl-3.1.0-py3-none-any.whl (14 kB)\n",
      "Collecting joblib>=0.11\n",
      "  Downloading joblib-1.3.1-py3-none-any.whl (301 kB)\n",
      "\u001b[2K     \u001b[90m━━━━━━━━━━━━━━━━━━━━━━━━━━━━━━━━━━━━━━━\u001b[0m \u001b[32m302.0/302.0 kB\u001b[0m \u001b[31m1.5 MB/s\u001b[0m eta \u001b[36m0:00:00\u001b[0ma \u001b[36m0:00:01\u001b[0m\n",
      "\u001b[?25hBuilding wheels for collected packages: torch_geometric\n",
      "  Building wheel for torch_geometric (pyproject.toml) ... \u001b[?25ldone\n",
      "\u001b[?25h  Created wheel for torch_geometric: filename=torch_geometric-2.3.1-py3-none-any.whl size=910459 sha256=d0876ae28554cb796fabb3e0dde51c550bfb29da5c75536571f9c226238c350d\n",
      "  Stored in directory: /Users/macbook/Library/Caches/pip/wheels/e6/38/f7/02dfdd521e2f6c7021083b41a7328fd290d2f4b4759ef14428\n",
      "Successfully built torch_geometric\n",
      "Installing collected packages: tqdm, threadpoolctl, scipy, pyparsing, joblib, scikit-learn, torch_geometric\n",
      "Successfully installed joblib-1.3.1 pyparsing-3.1.0 scikit-learn-1.0.2 scipy-1.7.3 threadpoolctl-3.1.0 torch_geometric-2.3.1 tqdm-4.65.0\n"
     ]
    }
   ],
   "source": [
    "!pip install torch_geometric"
   ]
  },
  {
   "cell_type": "code",
   "execution_count": null,
   "id": "f7a27c5c",
   "metadata": {},
   "outputs": [],
   "source": []
  },
  {
   "cell_type": "code",
   "execution_count": null,
   "id": "0aa72af2",
   "metadata": {},
   "outputs": [],
   "source": []
  }
 ],
 "metadata": {
  "kernelspec": {
   "display_name": "Python 3 (ipykernel)",
   "language": "python",
   "name": "python3"
  },
  "language_info": {
   "codemirror_mode": {
    "name": "ipython",
    "version": 3
   },
   "file_extension": ".py",
   "mimetype": "text/x-python",
   "name": "python",
   "nbconvert_exporter": "python",
   "pygments_lexer": "ipython3",
   "version": "3.7.16"
  }
 },
 "nbformat": 4,
 "nbformat_minor": 5
}
